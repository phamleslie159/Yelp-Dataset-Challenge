{
 "cells": [
  {
   "cell_type": "markdown",
   "metadata": {},
   "source": [
    "# Yelp Dataset Challenge Analysis"
   ]
  },
  {
   "cell_type": "markdown",
   "metadata": {},
   "source": [
    "Yelp hosts an annual challenge for all sorts of computer scientists and provides a comprehensive set of data that includes business information, user information, reviews, tips, check-in information, and even a large photo library. \n",
    "\n",
    "Using the data provided I will analyze what attributes and features make a well-ranked restaurant and a well-ranked user as well as conducting sentiment analysis on the review text. \n",
    "\n",
    "If needed I will also utilize the Yelp API to apply my models to current data from whereever a user would like.\n",
    "\n",
    "The potential stakeholders would be the businesses that can see what factors will affect their businesses reputation as well as the users who will be able to distinguish between credible reviews with good content or reviews that are not informative. Yelp may also be a potential stakeholder because the model could be used to sift through reviews to prioritize the better reviews on the page as opposed to the spam reviews. "
   ]
  },
  {
   "cell_type": "markdown",
   "metadata": {},
   "source": [
    "### Primary Data Analysis\n",
    "\n",
    "The datasets are provided as JSON files but if I try to use the \n",
    "* pd.read_json('/Users/lesliepham/Desktop/Capstone/Data/yelp_academic_dataset_user.json')\n",
    "\n",
    "An error appears pertaining to 'trailing data'. The solution to this is to open the json, read it as one large string, map through it to remove the '/n' at the end of each line, and the join it between brackets and commas. Only then can the JSON file be read into pandas as a dataframe."
   ]
  },
  {
   "cell_type": "code",
   "execution_count": 1,
   "metadata": {
    "collapsed": true
   },
   "outputs": [],
   "source": [
    "import pandas as pd"
   ]
  },
  {
   "cell_type": "code",
   "execution_count": 4,
   "metadata": {
    "collapsed": false
   },
   "outputs": [],
   "source": [
    "with open('/Users/lesliepham/Desktop/Capstone/Data/yelp_academic_dataset_user.json', 'rb') as f:\n",
    "    data = f.readlines()\n",
    "data = map(lambda x: x.rstrip(), data)\n",
    "data_json_str = \"[\" + ','.join(data) + \"]\"\n",
    "user_df = pd.read_json(data_json_str)"
   ]
  },
  {
   "cell_type": "code",
   "execution_count": 5,
   "metadata": {
    "collapsed": false
   },
   "outputs": [
    {
     "data": {
      "text/html": [
       "<div>\n",
       "<table border=\"1\" class=\"dataframe\">\n",
       "  <thead>\n",
       "    <tr style=\"text-align: right;\">\n",
       "      <th></th>\n",
       "      <th>average_stars</th>\n",
       "      <th>compliments</th>\n",
       "      <th>elite</th>\n",
       "      <th>fans</th>\n",
       "      <th>friends</th>\n",
       "      <th>name</th>\n",
       "      <th>review_count</th>\n",
       "      <th>type</th>\n",
       "      <th>user_id</th>\n",
       "      <th>votes</th>\n",
       "      <th>yelping_since</th>\n",
       "    </tr>\n",
       "  </thead>\n",
       "  <tbody>\n",
       "    <tr>\n",
       "      <th>0</th>\n",
       "      <td>4.14</td>\n",
       "      <td>{u'profile': 8, u'cute': 15, u'funny': 11, u'p...</td>\n",
       "      <td>[2005, 2006]</td>\n",
       "      <td>70</td>\n",
       "      <td>[rpOyqD_893cqmDAtJLbdog, 4U9kSBLuBDU391x6bxU-Y...</td>\n",
       "      <td>Russel</td>\n",
       "      <td>108</td>\n",
       "      <td>user</td>\n",
       "      <td>18kPq7GPye-YQ3LyKyAZPw</td>\n",
       "      <td>{u'funny': 167, u'useful': 280, u'cool': 245}</td>\n",
       "      <td>2004-10</td>\n",
       "    </tr>\n",
       "    <tr>\n",
       "      <th>1</th>\n",
       "      <td>3.66</td>\n",
       "      <td>{u'profile': 116, u'cute': 206, u'funny': 580,...</td>\n",
       "      <td>[2005, 2006, 2007, 2008, 2009, 2010, 2011, 201...</td>\n",
       "      <td>1179</td>\n",
       "      <td>[18kPq7GPye-YQ3LyKyAZPw, 4U9kSBLuBDU391x6bxU-Y...</td>\n",
       "      <td>Jeremy</td>\n",
       "      <td>1274</td>\n",
       "      <td>user</td>\n",
       "      <td>rpOyqD_893cqmDAtJLbdog</td>\n",
       "      <td>{u'funny': 7681, u'useful': 14199, u'cool': 11...</td>\n",
       "      <td>2004-10</td>\n",
       "    </tr>\n",
       "    <tr>\n",
       "      <th>2</th>\n",
       "      <td>3.60</td>\n",
       "      <td>{u'profile': 9, u'cute': 23, u'funny': 120, u'...</td>\n",
       "      <td>[2005, 2006, 2007, 2008, 2009, 2010, 2011, 201...</td>\n",
       "      <td>100</td>\n",
       "      <td>[18kPq7GPye-YQ3LyKyAZPw, rpOyqD_893cqmDAtJLbdo...</td>\n",
       "      <td>Michael</td>\n",
       "      <td>442</td>\n",
       "      <td>user</td>\n",
       "      <td>4U9kSBLuBDU391x6bxU-YA</td>\n",
       "      <td>{u'funny': 908, u'useful': 1483, u'cool': 732}</td>\n",
       "      <td>2004-10</td>\n",
       "    </tr>\n",
       "    <tr>\n",
       "      <th>3</th>\n",
       "      <td>4.64</td>\n",
       "      <td>{u'cute': 2}</td>\n",
       "      <td>[]</td>\n",
       "      <td>2</td>\n",
       "      <td>[18kPq7GPye-YQ3LyKyAZPw, rpOyqD_893cqmDAtJLbdo...</td>\n",
       "      <td>Ken</td>\n",
       "      <td>11</td>\n",
       "      <td>user</td>\n",
       "      <td>fHtTaujcyKvXglE33Z5yIw</td>\n",
       "      <td>{u'funny': 1, u'useful': 11, u'cool': 5}</td>\n",
       "      <td>2004-10</td>\n",
       "    </tr>\n",
       "    <tr>\n",
       "      <th>4</th>\n",
       "      <td>3.80</td>\n",
       "      <td>{u'cute': 2, u'plain': 2, u'writer': 2, u'note...</td>\n",
       "      <td>[2005]</td>\n",
       "      <td>4</td>\n",
       "      <td>[rpOyqD_893cqmDAtJLbdog, HDQixQ-WZEV0LVPJlIGQe...</td>\n",
       "      <td>Katherine</td>\n",
       "      <td>66</td>\n",
       "      <td>user</td>\n",
       "      <td>SIBCL7HBkrP4llolm4SC2A</td>\n",
       "      <td>{u'funny': 11, u'useful': 34, u'cool': 13}</td>\n",
       "      <td>2004-10</td>\n",
       "    </tr>\n",
       "  </tbody>\n",
       "</table>\n",
       "</div>"
      ],
      "text/plain": [
       "   average_stars                                        compliments  \\\n",
       "0           4.14  {u'profile': 8, u'cute': 15, u'funny': 11, u'p...   \n",
       "1           3.66  {u'profile': 116, u'cute': 206, u'funny': 580,...   \n",
       "2           3.60  {u'profile': 9, u'cute': 23, u'funny': 120, u'...   \n",
       "3           4.64                                       {u'cute': 2}   \n",
       "4           3.80  {u'cute': 2, u'plain': 2, u'writer': 2, u'note...   \n",
       "\n",
       "                                               elite  fans  \\\n",
       "0                                       [2005, 2006]    70   \n",
       "1  [2005, 2006, 2007, 2008, 2009, 2010, 2011, 201...  1179   \n",
       "2  [2005, 2006, 2007, 2008, 2009, 2010, 2011, 201...   100   \n",
       "3                                                 []     2   \n",
       "4                                             [2005]     4   \n",
       "\n",
       "                                             friends       name  review_count  \\\n",
       "0  [rpOyqD_893cqmDAtJLbdog, 4U9kSBLuBDU391x6bxU-Y...     Russel           108   \n",
       "1  [18kPq7GPye-YQ3LyKyAZPw, 4U9kSBLuBDU391x6bxU-Y...     Jeremy          1274   \n",
       "2  [18kPq7GPye-YQ3LyKyAZPw, rpOyqD_893cqmDAtJLbdo...    Michael           442   \n",
       "3  [18kPq7GPye-YQ3LyKyAZPw, rpOyqD_893cqmDAtJLbdo...        Ken            11   \n",
       "4  [rpOyqD_893cqmDAtJLbdog, HDQixQ-WZEV0LVPJlIGQe...  Katherine            66   \n",
       "\n",
       "   type                 user_id  \\\n",
       "0  user  18kPq7GPye-YQ3LyKyAZPw   \n",
       "1  user  rpOyqD_893cqmDAtJLbdog   \n",
       "2  user  4U9kSBLuBDU391x6bxU-YA   \n",
       "3  user  fHtTaujcyKvXglE33Z5yIw   \n",
       "4  user  SIBCL7HBkrP4llolm4SC2A   \n",
       "\n",
       "                                               votes yelping_since  \n",
       "0      {u'funny': 167, u'useful': 280, u'cool': 245}       2004-10  \n",
       "1  {u'funny': 7681, u'useful': 14199, u'cool': 11...       2004-10  \n",
       "2     {u'funny': 908, u'useful': 1483, u'cool': 732}       2004-10  \n",
       "3           {u'funny': 1, u'useful': 11, u'cool': 5}       2004-10  \n",
       "4         {u'funny': 11, u'useful': 34, u'cool': 13}       2004-10  "
      ]
     },
     "execution_count": 5,
     "metadata": {},
     "output_type": "execute_result"
    }
   ],
   "source": [
    "user_df.head()"
   ]
  }
 ],
 "metadata": {
  "kernelspec": {
   "display_name": "Python 2",
   "language": "python",
   "name": "python2"
  },
  "language_info": {
   "codemirror_mode": {
    "name": "ipython",
    "version": 2
   },
   "file_extension": ".py",
   "mimetype": "text/x-python",
   "name": "python",
   "nbconvert_exporter": "python",
   "pygments_lexer": "ipython2",
   "version": "2.7.11"
  }
 },
 "nbformat": 4,
 "nbformat_minor": 0
}
