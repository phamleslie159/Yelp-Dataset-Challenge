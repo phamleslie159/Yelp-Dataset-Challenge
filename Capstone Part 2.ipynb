{
 "cells": [
  {
   "cell_type": "markdown",
   "metadata": {},
   "source": [
    "# Problem Statement + EDA\n",
    "\n",
    "The approach I plan to take with this data is to look for trends relating to the review counts of users and businesses and whether the magnitude of reviews affects their overall rating. I will use some data visualizations to look for more obvious trends and use a model to determine feature importance for the less obvious trends. I also believe I can determine relationships between the star rating a business got based on the sentiment in the review text.\n",
    "\n",
    "Some risks I may face are the magnitude of the dataset as well as assuming ther reviews are consistent enough with sentimental words. There may also be difficulty of finding trends while using data from as many locations as is provided by Yelp. To combat that I will focus my studies on a small region. \n"
   ]
  },
  {
   "cell_type": "code",
   "execution_count": 20,
   "metadata": {
    "collapsed": false
   },
   "outputs": [],
   "source": [
    "import pandas as pd\n",
    "import matplotlib.pyplot as plt\n",
    "import seaborn as sns\n",
    "%matplotlib inline"
   ]
  },
  {
   "cell_type": "markdown",
   "metadata": {},
   "source": [
    "To start I'll load the user dataset and the business dataset and I'll perform some basic EDA."
   ]
  },
  {
   "cell_type": "code",
   "execution_count": 3,
   "metadata": {
    "collapsed": false
   },
   "outputs": [],
   "source": [
    "with open('/Users/lesliepham/Desktop/Capstone/Data/yelp_academic_dataset_user.json', 'rb') as f:\n",
    "    data = f.readlines()\n",
    "data = map(lambda x: x.rstrip(), data)\n",
    "data_json_str = \"[\" + ','.join(data) + \"]\"\n",
    "user_df = pd.read_json(data_json_str)"
   ]
  },
  {
   "cell_type": "code",
   "execution_count": 4,
   "metadata": {
    "collapsed": true
   },
   "outputs": [],
   "source": [
    "with open('/Users/lesliepham/Desktop/Capstone/Data/yelp_academic_dataset_business.json', 'rb') as f:\n",
    "    data = f.readlines()\n",
    "data = map(lambda x: x.rstrip(), data)\n",
    "data_json_str = \"[\" + ','.join(data) + \"]\"\n",
    "business_df = pd.read_json(data_json_str)"
   ]
  },
  {
   "cell_type": "markdown",
   "metadata": {},
   "source": [
    "The columns that interest me most are 'average_stars', 'fans', 'review_count' and 'yelping_since'. These values can be plotted to see any relationships. the 'compliments' and 'votes' must be iterated through, and separated into columns to analyze it better.  "
   ]
  },
  {
   "cell_type": "code",
   "execution_count": 5,
   "metadata": {
    "collapsed": false
   },
   "outputs": [
    {
     "data": {
      "text/html": [
       "<div>\n",
       "<table border=\"1\" class=\"dataframe\">\n",
       "  <thead>\n",
       "    <tr style=\"text-align: right;\">\n",
       "      <th></th>\n",
       "      <th>average_stars</th>\n",
       "      <th>compliments</th>\n",
       "      <th>elite</th>\n",
       "      <th>fans</th>\n",
       "      <th>friends</th>\n",
       "      <th>name</th>\n",
       "      <th>review_count</th>\n",
       "      <th>type</th>\n",
       "      <th>user_id</th>\n",
       "      <th>votes</th>\n",
       "      <th>yelping_since</th>\n",
       "    </tr>\n",
       "  </thead>\n",
       "  <tbody>\n",
       "    <tr>\n",
       "      <th>0</th>\n",
       "      <td>4.14</td>\n",
       "      <td>{u'profile': 8, u'cute': 15, u'funny': 11, u'p...</td>\n",
       "      <td>[2005, 2006]</td>\n",
       "      <td>70</td>\n",
       "      <td>[rpOyqD_893cqmDAtJLbdog, 4U9kSBLuBDU391x6bxU-Y...</td>\n",
       "      <td>Russel</td>\n",
       "      <td>108</td>\n",
       "      <td>user</td>\n",
       "      <td>18kPq7GPye-YQ3LyKyAZPw</td>\n",
       "      <td>{u'funny': 167, u'useful': 280, u'cool': 245}</td>\n",
       "      <td>2004-10</td>\n",
       "    </tr>\n",
       "    <tr>\n",
       "      <th>1</th>\n",
       "      <td>3.66</td>\n",
       "      <td>{u'profile': 116, u'cute': 206, u'funny': 580,...</td>\n",
       "      <td>[2005, 2006, 2007, 2008, 2009, 2010, 2011, 201...</td>\n",
       "      <td>1179</td>\n",
       "      <td>[18kPq7GPye-YQ3LyKyAZPw, 4U9kSBLuBDU391x6bxU-Y...</td>\n",
       "      <td>Jeremy</td>\n",
       "      <td>1274</td>\n",
       "      <td>user</td>\n",
       "      <td>rpOyqD_893cqmDAtJLbdog</td>\n",
       "      <td>{u'funny': 7681, u'useful': 14199, u'cool': 11...</td>\n",
       "      <td>2004-10</td>\n",
       "    </tr>\n",
       "    <tr>\n",
       "      <th>2</th>\n",
       "      <td>3.60</td>\n",
       "      <td>{u'profile': 9, u'cute': 23, u'funny': 120, u'...</td>\n",
       "      <td>[2005, 2006, 2007, 2008, 2009, 2010, 2011, 201...</td>\n",
       "      <td>100</td>\n",
       "      <td>[18kPq7GPye-YQ3LyKyAZPw, rpOyqD_893cqmDAtJLbdo...</td>\n",
       "      <td>Michael</td>\n",
       "      <td>442</td>\n",
       "      <td>user</td>\n",
       "      <td>4U9kSBLuBDU391x6bxU-YA</td>\n",
       "      <td>{u'funny': 908, u'useful': 1483, u'cool': 732}</td>\n",
       "      <td>2004-10</td>\n",
       "    </tr>\n",
       "    <tr>\n",
       "      <th>3</th>\n",
       "      <td>4.64</td>\n",
       "      <td>{u'cute': 2}</td>\n",
       "      <td>[]</td>\n",
       "      <td>2</td>\n",
       "      <td>[18kPq7GPye-YQ3LyKyAZPw, rpOyqD_893cqmDAtJLbdo...</td>\n",
       "      <td>Ken</td>\n",
       "      <td>11</td>\n",
       "      <td>user</td>\n",
       "      <td>fHtTaujcyKvXglE33Z5yIw</td>\n",
       "      <td>{u'funny': 1, u'useful': 11, u'cool': 5}</td>\n",
       "      <td>2004-10</td>\n",
       "    </tr>\n",
       "    <tr>\n",
       "      <th>4</th>\n",
       "      <td>3.80</td>\n",
       "      <td>{u'cute': 2, u'plain': 2, u'writer': 2, u'note...</td>\n",
       "      <td>[2005]</td>\n",
       "      <td>4</td>\n",
       "      <td>[rpOyqD_893cqmDAtJLbdog, HDQixQ-WZEV0LVPJlIGQe...</td>\n",
       "      <td>Katherine</td>\n",
       "      <td>66</td>\n",
       "      <td>user</td>\n",
       "      <td>SIBCL7HBkrP4llolm4SC2A</td>\n",
       "      <td>{u'funny': 11, u'useful': 34, u'cool': 13}</td>\n",
       "      <td>2004-10</td>\n",
       "    </tr>\n",
       "  </tbody>\n",
       "</table>\n",
       "</div>"
      ],
      "text/plain": [
       "   average_stars                                        compliments  \\\n",
       "0           4.14  {u'profile': 8, u'cute': 15, u'funny': 11, u'p...   \n",
       "1           3.66  {u'profile': 116, u'cute': 206, u'funny': 580,...   \n",
       "2           3.60  {u'profile': 9, u'cute': 23, u'funny': 120, u'...   \n",
       "3           4.64                                       {u'cute': 2}   \n",
       "4           3.80  {u'cute': 2, u'plain': 2, u'writer': 2, u'note...   \n",
       "\n",
       "                                               elite  fans  \\\n",
       "0                                       [2005, 2006]    70   \n",
       "1  [2005, 2006, 2007, 2008, 2009, 2010, 2011, 201...  1179   \n",
       "2  [2005, 2006, 2007, 2008, 2009, 2010, 2011, 201...   100   \n",
       "3                                                 []     2   \n",
       "4                                             [2005]     4   \n",
       "\n",
       "                                             friends       name  review_count  \\\n",
       "0  [rpOyqD_893cqmDAtJLbdog, 4U9kSBLuBDU391x6bxU-Y...     Russel           108   \n",
       "1  [18kPq7GPye-YQ3LyKyAZPw, 4U9kSBLuBDU391x6bxU-Y...     Jeremy          1274   \n",
       "2  [18kPq7GPye-YQ3LyKyAZPw, rpOyqD_893cqmDAtJLbdo...    Michael           442   \n",
       "3  [18kPq7GPye-YQ3LyKyAZPw, rpOyqD_893cqmDAtJLbdo...        Ken            11   \n",
       "4  [rpOyqD_893cqmDAtJLbdog, HDQixQ-WZEV0LVPJlIGQe...  Katherine            66   \n",
       "\n",
       "   type                 user_id  \\\n",
       "0  user  18kPq7GPye-YQ3LyKyAZPw   \n",
       "1  user  rpOyqD_893cqmDAtJLbdog   \n",
       "2  user  4U9kSBLuBDU391x6bxU-YA   \n",
       "3  user  fHtTaujcyKvXglE33Z5yIw   \n",
       "4  user  SIBCL7HBkrP4llolm4SC2A   \n",
       "\n",
       "                                               votes yelping_since  \n",
       "0      {u'funny': 167, u'useful': 280, u'cool': 245}       2004-10  \n",
       "1  {u'funny': 7681, u'useful': 14199, u'cool': 11...       2004-10  \n",
       "2     {u'funny': 908, u'useful': 1483, u'cool': 732}       2004-10  \n",
       "3           {u'funny': 1, u'useful': 11, u'cool': 5}       2004-10  \n",
       "4         {u'funny': 11, u'useful': 34, u'cool': 13}       2004-10  "
      ]
     },
     "execution_count": 5,
     "metadata": {},
     "output_type": "execute_result"
    }
   ],
   "source": [
    "user_df.head()"
   ]
  },
  {
   "cell_type": "markdown",
   "metadata": {},
   "source": [
    "The 'yelping_since' column is a date but the data type is not datetime so we must change it in order to work with it as a time series."
   ]
  },
  {
   "cell_type": "code",
   "execution_count": 7,
   "metadata": {
    "collapsed": false
   },
   "outputs": [
    {
     "data": {
      "text/plain": [
       "average_stars    float64\n",
       "compliments       object\n",
       "elite             object\n",
       "fans               int64\n",
       "friends           object\n",
       "name              object\n",
       "review_count       int64\n",
       "type              object\n",
       "user_id           object\n",
       "votes             object\n",
       "yelping_since     object\n",
       "dtype: object"
      ]
     },
     "execution_count": 7,
     "metadata": {},
     "output_type": "execute_result"
    }
   ],
   "source": [
    "user_df.dtypes"
   ]
  },
  {
   "cell_type": "code",
   "execution_count": 8,
   "metadata": {
    "collapsed": true
   },
   "outputs": [],
   "source": [
    "user_df['yelping_since']=pd.to_datetime(user_df['yelping_since'], format='%Y-%m')"
   ]
  },
  {
   "cell_type": "code",
   "execution_count": 9,
   "metadata": {
    "collapsed": true
   },
   "outputs": [],
   "source": [
    "users=pd.DataFrame(data=user_df,columns=['average_stars', 'fans', 'review_count', 'votes', 'yelping_since'])"
   ]
  },
  {
   "cell_type": "markdown",
   "metadata": {},
   "source": [
    "From the pairplot we see that people with the most fans and people who have reviewed the most have an average_star value in the range of 3 to 4.5."
   ]
  },
  {
   "cell_type": "code",
   "execution_count": 21,
   "metadata": {
    "collapsed": false
   },
   "outputs": [
    {
     "data": {
      "text/plain": [
       "<seaborn.axisgrid.PairGrid at 0x11ef04b10>"
      ]
     },
     "execution_count": 21,
     "metadata": {},
     "output_type": "execute_result"
    },
    {
     "data": {
      "image/png": "[encoded data removed]",
      "text/plain": [
       "<matplotlib.figure.Figure at 0x11ef04c50>"
      ]
     },
     "metadata": {},
     "output_type": "display_data"
    }
   ],
   "source": [
    "sns.pairplot(users)"
   ]
  },
  {
   "cell_type": "code",
   "execution_count": 11,
   "metadata": {
    "collapsed": false
   },
   "outputs": [
    {
     "data": {
      "text/html": [
       "<div>\n",
       "<table border=\"1\" class=\"dataframe\">\n",
       "  <thead>\n",
       "    <tr style=\"text-align: right;\">\n",
       "      <th></th>\n",
       "      <th>cool</th>\n",
       "      <th>cute</th>\n",
       "      <th>funny</th>\n",
       "      <th>hot</th>\n",
       "      <th>list</th>\n",
       "      <th>more</th>\n",
       "      <th>note</th>\n",
       "      <th>photos</th>\n",
       "      <th>plain</th>\n",
       "      <th>profile</th>\n",
       "      <th>writer</th>\n",
       "    </tr>\n",
       "  </thead>\n",
       "  <tbody>\n",
       "    <tr>\n",
       "      <th>0</th>\n",
       "      <td>78.0</td>\n",
       "      <td>15.0</td>\n",
       "      <td>11.0</td>\n",
       "      <td>48.0</td>\n",
       "      <td>0.0</td>\n",
       "      <td>3.0</td>\n",
       "      <td>20.0</td>\n",
       "      <td>14.0</td>\n",
       "      <td>25.0</td>\n",
       "      <td>8.0</td>\n",
       "      <td>9.0</td>\n",
       "    </tr>\n",
       "    <tr>\n",
       "      <th>1</th>\n",
       "      <td>1642.0</td>\n",
       "      <td>206.0</td>\n",
       "      <td>580.0</td>\n",
       "      <td>1094.0</td>\n",
       "      <td>38.0</td>\n",
       "      <td>134.0</td>\n",
       "      <td>611.0</td>\n",
       "      <td>330.0</td>\n",
       "      <td>959.0</td>\n",
       "      <td>116.0</td>\n",
       "      <td>327.0</td>\n",
       "    </tr>\n",
       "    <tr>\n",
       "      <th>2</th>\n",
       "      <td>145.0</td>\n",
       "      <td>23.0</td>\n",
       "      <td>120.0</td>\n",
       "      <td>101.0</td>\n",
       "      <td>4.0</td>\n",
       "      <td>19.0</td>\n",
       "      <td>83.0</td>\n",
       "      <td>24.0</td>\n",
       "      <td>89.0</td>\n",
       "      <td>9.0</td>\n",
       "      <td>24.0</td>\n",
       "    </tr>\n",
       "    <tr>\n",
       "      <th>3</th>\n",
       "      <td>0.0</td>\n",
       "      <td>2.0</td>\n",
       "      <td>0.0</td>\n",
       "      <td>0.0</td>\n",
       "      <td>0.0</td>\n",
       "      <td>0.0</td>\n",
       "      <td>0.0</td>\n",
       "      <td>0.0</td>\n",
       "      <td>0.0</td>\n",
       "      <td>0.0</td>\n",
       "      <td>0.0</td>\n",
       "    </tr>\n",
       "    <tr>\n",
       "      <th>4</th>\n",
       "      <td>1.0</td>\n",
       "      <td>2.0</td>\n",
       "      <td>0.0</td>\n",
       "      <td>1.0</td>\n",
       "      <td>0.0</td>\n",
       "      <td>1.0</td>\n",
       "      <td>1.0</td>\n",
       "      <td>0.0</td>\n",
       "      <td>2.0</td>\n",
       "      <td>0.0</td>\n",
       "      <td>2.0</td>\n",
       "    </tr>\n",
       "  </tbody>\n",
       "</table>\n",
       "</div>"
      ],
      "text/plain": [
       "     cool   cute  funny     hot  list   more   note  photos  plain  profile  \\\n",
       "0    78.0   15.0   11.0    48.0   0.0    3.0   20.0    14.0   25.0      8.0   \n",
       "1  1642.0  206.0  580.0  1094.0  38.0  134.0  611.0   330.0  959.0    116.0   \n",
       "2   145.0   23.0  120.0   101.0   4.0   19.0   83.0    24.0   89.0      9.0   \n",
       "3     0.0    2.0    0.0     0.0   0.0    0.0    0.0     0.0    0.0      0.0   \n",
       "4     1.0    2.0    0.0     1.0   0.0    1.0    1.0     0.0    2.0      0.0   \n",
       "\n",
       "   writer  \n",
       "0     9.0  \n",
       "1   327.0  \n",
       "2    24.0  \n",
       "3     0.0  \n",
       "4     2.0  "
      ]
     },
     "execution_count": 11,
     "metadata": {},
     "output_type": "execute_result"
    }
   ],
   "source": [
    "complimentslst=[]\n",
    "for i in user_df['compliments']:\n",
    "    complimentslst.append(i)\n",
    "\n",
    "compliments=pd.DataFrame(complimentslst)\n",
    "\n",
    "fill_comp=compliments.fillna(value=0.0)\n",
    "fill_comp.head()"
   ]
  },
  {
   "cell_type": "code",
   "execution_count": 12,
   "metadata": {
    "collapsed": true
   },
   "outputs": [],
   "source": [
    "Nevada= business_df[business_df['state']=='NV']\n",
    "NVplot=pd.DataFrame(data=Nevada, columns=['latitude', 'longitude','name', 'review_count', 'stars'])"
   ]
  },
  {
   "cell_type": "markdown",
   "metadata": {},
   "source": [
    "The histogram of the Nevada business data shows the same trend as the user data. The businesses with the most reviews are in the 3.5 to 4.5 range. "
   ]
  },
  {
   "cell_type": "code",
   "execution_count": 16,
   "metadata": {
    "collapsed": false
   },
   "outputs": [
    {
     "data": {
      "text/plain": [
       "<matplotlib.axes._subplots.AxesSubplot at 0x116c96c10>"
      ]
     },
     "execution_count": 16,
     "metadata": {},
     "output_type": "execute_result"
    },
    {
     "data": {
      "image/png": "[encoded data removed]",
      "text/plain": [
       "<matplotlib.figure.Figure at 0x11a28ae10>"
      ]
     },
     "metadata": {},
     "output_type": "display_data"
    }
   ],
   "source": [
    "Nevada['stars'].hist()"
   ]
  },
  {
   "cell_type": "code",
   "execution_count": 23,
   "metadata": {
    "collapsed": false
   },
   "outputs": [
    {
     "data": {
      "text/plain": [
       "<matplotlib.collections.PathCollection at 0x11f70a350>"
      ]
     },
     "execution_count": 23,
     "metadata": {},
     "output_type": "execute_result"
    },
    {
     "data": {
      "image/png": "[encoded data removed]",
      "text/plain": [
       "<matplotlib.figure.Figure at 0x11f572e90>"
      ]
     },
     "metadata": {},
     "output_type": "display_data"
    }
   ],
   "source": [
    "plt.scatter(data=NVplot, x='stars', y='review_count')"
   ]
  },
  {
   "cell_type": "code",
   "execution_count": null,
   "metadata": {
    "collapsed": true
   },
   "outputs": [],
   "source": []
  }
 ],
 "metadata": {
  "kernelspec": {
   "display_name": "Python 2",
   "language": "python",
   "name": "python2"
  },
  "language_info": {
   "codemirror_mode": {
    "name": "ipython",
    "version": 2
   },
   "file_extension": ".py",
   "mimetype": "text/x-python",
   "name": "python",
   "nbconvert_exporter": "python",
   "pygments_lexer": "ipython2",
   "version": "2.7.11"
  }
 },
 "nbformat": 4,
 "nbformat_minor": 0
}
